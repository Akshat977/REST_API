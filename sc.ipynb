{
 "cells": [
  {
   "cell_type": "code",
   "execution_count": null,
   "metadata": {},
   "outputs": [],
   "source": [
    "import json\n",
    "import requests_with_caching\n",
    "def get_movies_from_tastedive(movieName):\n",
    "    baseurl=\"https://tastedive.com/api/similar\"\n",
    "    params_d = {}\n",
    "    params_d[\"q\"]= movieName\n",
    "\n",
    "    params_d[\"type\"]= \"movies\"\n",
    "    params_d[\"limit\"] = \"5\"\n",
    "    \n",
    "    resp = requests_with_caching.get(baseurl, params=params_d)\n",
    "    \n",
    "    respDic = resp.json()\n",
    "    return respDic \n",
    "def extract_movie_titles(resp):\n",
    "    x=resp['Similar']['Results']\n",
    "    x=[y['Name'] for y in x]\n",
    "    return(x)\n",
    "def get_related_titles(list_of_movie_title):\n",
    "    new_list = list()\n",
    "    for title in list_of_movie_title:\n",
    "        a = get_movies_from_tastedive(title)\n",
    "        b = extract_movie_titles(a)\n",
    "        for movie in b:\n",
    "            if movie not in new_list:\n",
    "                new_list.append(movie)\n",
    "    return new_list\n",
    "def get_movie_data(movie_name):\n",
    "    parameters = {'t': movie_name, 'r': 'json'}\n",
    "    omdbapi_response = requests_with_caching.get('http://www.omdbapi.com/', params=parameters)\n",
    "    a = json.loads(omdbapi_response.text)\n",
    "    return a\n",
    "\n",
    "def get_movie_rating(movieNameJson):\n",
    "    strRanting=\"\"\n",
    "    for typeRantingList in movieNameJson[\"Ratings\"]:\n",
    "        if typeRantingList[\"Source\"]== \"Rotten Tomatoes\":\n",
    "            strRanting = typeRantingList[\"Value\"]\n",
    "    if strRanting != \"\":\n",
    "        ranting = int(strRanting[:2])\n",
    "    else: ranting = 0\n",
    "    return ranting\n",
    "def get_sorted_recommendations(listMovieTitle):\n",
    "    listMovie= get_related_titles(listMovieTitle)\n",
    "    listMovie= sorted(listMovie, key = lambda movieName: (get_movie_rating(get_movie_data(movieName)), movieName), reverse=True)\n",
    "    \n",
    "    return listMovie\n",
    "get_sorted_recommendations([\"Bridesmaids\", \"Sherlock Holmes\"])\n",
    "\n"
   ]
  }
 ],
 "metadata": {
  "kernelspec": {
   "display_name": "Python 3",
   "language": "python",
   "name": "python3"
  },
  "language_info": {
   "codemirror_mode": {
    "name": "ipython",
    "version": 3
   },
   "file_extension": ".py",
   "mimetype": "text/x-python",
   "name": "python",
   "nbconvert_exporter": "python",
   "pygments_lexer": "ipython3",
   "version": "3.7.6"
  }
 },
 "nbformat": 4,
 "nbformat_minor": 4
}
